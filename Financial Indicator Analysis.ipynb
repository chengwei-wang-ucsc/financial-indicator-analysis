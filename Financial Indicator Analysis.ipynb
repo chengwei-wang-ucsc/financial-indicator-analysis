{
 "cells": [
  {
   "cell_type": "markdown",
   "id": "38f50d9f",
   "metadata": {},
   "source": [
    "In this notebook, I used Ta-lib's abstract API to add all the financial indicators that Ta-lib has to offer. When dealing with a dataset that contains multiple instruments or stocks, one needs to avoid applying the indicators to the entire dataset all-in-once; the correct way is to calculate each stock's indicators individually. This notebook works for datasets that has only one stock or multiple stocks"
   ]
  },
  {
   "cell_type": "code",
   "execution_count": 1,
   "id": "6c5bb934",
   "metadata": {
    "ExecuteTime": {
     "end_time": "2023-03-24T12:13:09.223846Z",
     "start_time": "2023-03-24T12:13:08.858055Z"
    }
   },
   "outputs": [],
   "source": [
    "import warnings\n",
    "warnings.filterwarnings(\"ignore\")\n",
    "import pandas as pd\n",
    "import numpy as np\n",
    "import os\n",
    "from tqdm import tqdm\n",
    "import talib\n",
    "from talib import abstract\n",
    "from finta import TA"
   ]
  },
  {
   "cell_type": "code",
   "execution_count": 2,
   "id": "2f6cf9ba",
   "metadata": {
    "ExecuteTime": {
     "end_time": "2023-03-24T12:13:09.543056Z",
     "start_time": "2023-03-24T12:13:09.224847Z"
    },
    "code_folding": [
     0
    ],
    "scrolled": true
   },
   "outputs": [
    {
     "data": {
      "text/plain": [
       "(1,\n",
       " date          0\n",
       " tic           0\n",
       " open          0\n",
       " high          0\n",
       " low           0\n",
       " close         0\n",
       " volume        0\n",
       " pct_change    0\n",
       " dtype: int64,\n",
       " array(['AAPL', 'AMGN', 'AXP', 'BA', 'CAT', 'CRM', 'CSCO', 'CVX', 'DIS',\n",
       "        'GS', 'HD', 'HON', 'IBM', 'INTC', 'JNJ', 'JPM', 'KO', 'MCD', 'MMM',\n",
       "        'MRK', 'MSFT', 'NKE', 'PG', 'TRV', 'UNH', 'V', 'VZ', 'WBA', 'WMT'],\n",
       "       dtype=object),\n",
       " Index(['date', 'tic', 'open', 'high', 'low', 'close', 'volume', 'pct_change'], dtype='object'),\n",
       " (103124, 8),\n",
       "          date   tic       open       high        low      close       volume  \\\n",
       " 0  2009-01-02  AAPL   3.067143   3.251429   3.041429   2.758535  746015200.0   \n",
       " 1  2009-01-02  AMGN  58.590000  59.080002  57.750000  43.832630    6547900.0   \n",
       " 2  2009-01-02   AXP  18.570000  19.520000  18.400000  15.365303   10955700.0   \n",
       " 3  2009-01-02    BA  42.799999  45.560001  42.779999  33.941109    7010200.0   \n",
       " 4  2009-01-02   CAT  44.910000  46.980000  44.709999  31.579325    7117200.0   \n",
       " \n",
       "    pct_change  \n",
       " 0    0.000000  \n",
       " 1   14.889820  \n",
       " 2   -0.649455  \n",
       " 3    1.208945  \n",
       " 4   -0.069585  ,\n",
       "               date  tic        open        high         low       close  \\\n",
       " 103119  2023-02-16  UNH  491.149994  494.000000  487.269989  487.350006   \n",
       " 103120  2023-02-16    V  226.070007  228.360001  225.669998  225.830002   \n",
       " 103121  2023-02-16   VZ   40.060001   40.209999   39.700001   39.840000   \n",
       " 103122  2023-02-16  WBA   36.209999   36.560001   35.919998   36.320000   \n",
       " 103123  2023-02-16  WMT  145.479996  145.990005  144.179993  144.270004   \n",
       " \n",
       "             volume  pct_change  \n",
       " 103119   2611500.0    1.662242  \n",
       " 103120   3865900.0   -0.536616  \n",
       " 103121  16625900.0   -0.823584  \n",
       " 103122   5046800.0   -0.088353  \n",
       " 103123   5437400.0    2.972192  )"
      ]
     },
     "execution_count": 2,
     "metadata": {},
     "output_type": "execute_result"
    }
   ],
   "source": [
    "train_df = pd.read_csv(\"datasets\\\\processed_full.csv\").drop(columns=['Unnamed: 0', 'day', 'macd', 'boll_ub', \n",
    "                                                                     'boll_lb', 'rsi_30', 'cci_30', 'dx_30',\n",
    "                                                                     'close_30_sma', 'close_60_sma', 'vix',\n",
    "                                                                     'turbulence'])\n",
    "train_df = train_df.reset_index(drop=True)\n",
    "tickers = train_df.tic.unique()\n",
    "train_df['pct_change'] = train_df.close.pct_change().fillna(0)\n",
    "\n",
    "np.sum((train_df==0).sum().values), train_df.isna().sum(), tickers, train_df.columns, train_df.shape, train_df.head(5), train_df.tail(5)"
   ]
  },
  {
   "cell_type": "markdown",
   "id": "264bc23e",
   "metadata": {},
   "source": [
    "# Get All Features\n",
    "The abstract API of Ta-lib libary is used."
   ]
  },
  {
   "cell_type": "code",
   "execution_count": 3,
   "id": "b800102c",
   "metadata": {
    "ExecuteTime": {
     "end_time": "2023-03-24T12:13:12.852226Z",
     "start_time": "2023-03-24T12:13:09.546058Z"
    },
    "code_folding": [
     8
    ],
    "run_control": {
     "marked": false
    },
    "scrolled": true
   },
   "outputs": [
    {
     "name": "stderr",
     "output_type": "stream",
     "text": [
      "  7%|█████▋                                                                             | 2/29 [00:00<00:02, 12.49it/s]"
     ]
    },
    {
     "name": "stdout",
     "output_type": "stream",
     "text": [
      "Error:  MAVP\n",
      "Error:  MAVP\n",
      "Error:  MAVP\n"
     ]
    },
    {
     "name": "stderr",
     "output_type": "stream",
     "text": [
      " 21%|█████████████████▏                                                                 | 6/29 [00:00<00:01, 11.98it/s]"
     ]
    },
    {
     "name": "stdout",
     "output_type": "stream",
     "text": [
      "Error:  MAVP\n",
      "Error:  MAVP\n",
      "Error:  MAVP\n"
     ]
    },
    {
     "name": "stderr",
     "output_type": "stream",
     "text": [
      "\r",
      " 28%|██████████████████████▉                                                            | 8/29 [00:00<00:01, 11.86it/s]"
     ]
    },
    {
     "name": "stdout",
     "output_type": "stream",
     "text": [
      "Error:  MAVP\n",
      "Error:  MAVP\n",
      "Error:  MAVP\n"
     ]
    },
    {
     "name": "stderr",
     "output_type": "stream",
     "text": [
      "\r",
      " 34%|████████████████████████████▎                                                     | 10/29 [00:00<00:01, 11.58it/s]"
     ]
    },
    {
     "name": "stdout",
     "output_type": "stream",
     "text": [
      "Error:  MAVP\n",
      "Error:  MAVP\n"
     ]
    },
    {
     "name": "stderr",
     "output_type": "stream",
     "text": [
      "\r",
      " 41%|█████████████████████████████████▉                                                | 12/29 [00:01<00:01, 10.51it/s]"
     ]
    },
    {
     "name": "stdout",
     "output_type": "stream",
     "text": [
      "Error:  MAVP\n",
      "Error:  MAVP\n",
      "Error:  MAVP\n"
     ]
    },
    {
     "name": "stderr",
     "output_type": "stream",
     "text": [
      " 55%|█████████████████████████████████████████████▏                                    | 16/29 [00:01<00:01, 10.26it/s]"
     ]
    },
    {
     "name": "stdout",
     "output_type": "stream",
     "text": [
      "Error:  MAVP\n",
      "Error:  MAVP\n"
     ]
    },
    {
     "name": "stderr",
     "output_type": "stream",
     "text": [
      "\r",
      " 62%|██████████████████████████████████████████████████▉                               | 18/29 [00:01<00:01, 10.01it/s]"
     ]
    },
    {
     "name": "stdout",
     "output_type": "stream",
     "text": [
      "Error:  MAVP\n",
      "Error:  MAVP\n",
      "Error:  MAVP\n"
     ]
    },
    {
     "name": "stderr",
     "output_type": "stream",
     "text": [
      " 72%|███████████████████████████████████████████████████████████▍                      | 21/29 [00:02<00:00,  9.51it/s]"
     ]
    },
    {
     "name": "stdout",
     "output_type": "stream",
     "text": [
      "Error:  MAVP\n",
      "Error:  MAVP\n"
     ]
    },
    {
     "name": "stderr",
     "output_type": "stream",
     "text": [
      " 79%|█████████████████████████████████████████████████████████████████                 | 23/29 [00:02<00:00,  9.24it/s]"
     ]
    },
    {
     "name": "stdout",
     "output_type": "stream",
     "text": [
      "Error:  MAVP\n",
      "Error:  MAVP\n"
     ]
    },
    {
     "name": "stderr",
     "output_type": "stream",
     "text": [
      "\r",
      " 83%|███████████████████████████████████████████████████████████████████▊              | 24/29 [00:02<00:00,  9.08it/s]"
     ]
    },
    {
     "name": "stdout",
     "output_type": "stream",
     "text": [
      "Error:  MAVP\n",
      "Error:  MAVP\n"
     ]
    },
    {
     "name": "stderr",
     "output_type": "stream",
     "text": [
      " 90%|█████████████████████████████████████████████████████████████████████████▌        | 26/29 [00:02<00:00,  8.74it/s]"
     ]
    },
    {
     "name": "stdout",
     "output_type": "stream",
     "text": [
      "Error:  MAVP\n",
      "Error:  MAVP\n"
     ]
    },
    {
     "name": "stderr",
     "output_type": "stream",
     "text": [
      " 97%|███████████████████████████████████████████████████████████████████████████████▏  | 28/29 [00:02<00:00,  8.33it/s]"
     ]
    },
    {
     "name": "stdout",
     "output_type": "stream",
     "text": [
      "Error:  MAVP\n",
      "Error:  MAVP\n"
     ]
    },
    {
     "name": "stderr",
     "output_type": "stream",
     "text": [
      "100%|██████████████████████████████████████████████████████████████████████████████████| 29/29 [00:02<00:00,  9.72it/s]\n"
     ]
    },
    {
     "data": {
      "text/plain": [
       "((97324, 182),\n",
       "          date   tic      open      high       low    close       volume  \\\n",
       " 0  2009-10-19  AAPL  6.708929  6.785714  6.626786  5.77119  942230800.0   \n",
       " \n",
       "    pct_change  HT_DCPERIOD  HT_DCPHASE  ...  LINEARREG_SLOPE    STDDEV  \\\n",
       " 0   -0.847726    23.522297  182.902662  ...         0.015264  0.032712   \n",
       " \n",
       "         TSF      VAR       ATR       NATR    TRANGE            AD  \\\n",
       " 0  5.841551  0.00107  1.039467  18.011316  1.069544 -1.412814e+12   \n",
       " \n",
       "           ADOSC           OBV  \n",
       " 0 -3.764301e+10  1.432607e+10  \n",
       " \n",
       " [1 rows x 182 columns],\n",
       "              date  tic        open        high         low       close  \\\n",
       " 97323  2023-02-16  WMT  145.479996  145.990005  144.179993  144.270004   \n",
       " \n",
       "           volume  pct_change  HT_DCPERIOD  HT_DCPHASE  ...  LINEARREG_SLOPE  \\\n",
       " 97323  5437400.0    2.972192    16.038365   97.752962  ...         0.203254   \n",
       " \n",
       "          STDDEV         TSF       VAR       ATR      NATR    TRANGE  \\\n",
       " 97323  1.050723  144.765831  1.104019  2.643739  1.832494  2.390015   \n",
       " \n",
       "                  AD         ADOSC          OBV  \n",
       " 97323 -7.860022e+11  3.140664e+06  407448500.0  \n",
       " \n",
       " [1 rows x 182 columns],\n",
       " 29,\n",
       " date      0\n",
       " tic       0\n",
       " open      0\n",
       " high      0\n",
       " low       0\n",
       "          ..\n",
       " NATR      0\n",
       " TRANGE    0\n",
       " AD        0\n",
       " ADOSC     0\n",
       " OBV       0\n",
       " Length: 182, dtype: int64)"
      ]
     },
     "execution_count": 3,
     "metadata": {},
     "output_type": "execute_result"
    }
   ],
   "source": [
    "columns = ['open', 'close', 'high', 'low', 'volume']\n",
    "for a in columns:\n",
    "    train_df[a] = train_df[a].values.astype('float64')\n",
    "\n",
    "window_size = 125\n",
    "individual_length = train_df[train_df.tic==tickers[0]].shape[0]\n",
    "ta_list = talib.get_functions()\n",
    "pre_processed_train_df = pd.DataFrame()\n",
    "for i in tqdm(range(len(tickers))):\n",
    "    tmp_df = train_df[train_df.tic==tickers[i]]\n",
    "    for x in ta_list:\n",
    "        try:\n",
    "            output = eval('abstract.'+x+'(tmp_df)')\n",
    "            if len(output.shape)>1 and len(output.shape)<10:\n",
    "                for a in range(output.shape[-1]):\n",
    "                    tmp_df[str(x)+str(a)] = output.iloc[:,a]\n",
    "            else:\n",
    "                tmp_df[str(x)] = output\n",
    "        except:\n",
    "            print('Error: ', x)\n",
    "\n",
    "    pre_processed_train_df = pre_processed_train_df.append(tmp_df.drop(tmp_df.head(200).index))   \n",
    "pre_processed_train_df = pre_processed_train_df.replace([np.inf, -np.inf], np.nan)\n",
    "pre_processed_train_df = pre_processed_train_df.fillna(0)\n",
    "pre_processed_train_df = pre_processed_train_df.reset_index(drop=True)\n",
    "\n",
    "pre_processed_train_df.shape, pre_processed_train_df.head(1), pre_processed_train_df.tail(1), len(pre_processed_train_df.tic.unique()), pre_processed_train_df.isna().sum()"
   ]
  },
  {
   "cell_type": "code",
   "execution_count": 4,
   "id": "66a1c0df",
   "metadata": {
    "ExecuteTime": {
     "end_time": "2023-03-24T12:13:13.060362Z",
     "start_time": "2023-03-24T12:13:12.854227Z"
    },
    "code_folding": [
     2
    ]
   },
   "outputs": [
    {
     "data": {
      "text/plain": [
       "(3356, 3356)"
      ]
     },
     "execution_count": 4,
     "metadata": {},
     "output_type": "execute_result"
    }
   ],
   "source": [
    "all_length = []\n",
    "pre_processed_train_df_2 = pre_processed_train_df.copy()\n",
    "for i in range(len(tickers)):\n",
    "    tmp_df = pre_processed_train_df_2[pre_processed_train_df_2.tic==tickers[i]]\n",
    "    all_length.append(tmp_df.shape[0])\n",
    "    \n",
    "min(all_length), max(all_length)"
   ]
  },
  {
   "cell_type": "markdown",
   "id": "e91a3120",
   "metadata": {},
   "source": [
    "# Drop Features with Too Many Zeros\n",
    "If data set contains too many zeros, the data quality will be too poor to train machine-learning or reinforcement learning models."
   ]
  },
  {
   "cell_type": "code",
   "execution_count": 5,
   "id": "2d69f2b2",
   "metadata": {
    "ExecuteTime": {
     "end_time": "2023-03-24T12:13:13.108394Z",
     "start_time": "2023-03-24T12:13:13.062364Z"
    }
   },
   "outputs": [
    {
     "data": {
      "text/plain": [
       "(67,)"
      ]
     },
     "execution_count": 5,
     "metadata": {},
     "output_type": "execute_result"
    }
   ],
   "source": [
    "columns = pre_processed_train_df_2.columns\n",
    "zeros = ((pre_processed_train_df_2==0).sum()>pre_processed_train_df_2.shape[0]*0.1)\n",
    "columns_to_drop = np.where(zeros==True)[0]\n",
    "\n",
    "columns_to_drop.shape"
   ]
  },
  {
   "cell_type": "code",
   "execution_count": 6,
   "id": "6c85d1fe",
   "metadata": {
    "ExecuteTime": {
     "end_time": "2023-03-24T12:13:15.043213Z",
     "start_time": "2023-03-24T12:13:13.110395Z"
    },
    "code_folding": [
     0
    ],
    "scrolled": true
   },
   "outputs": [
    {
     "data": {
      "text/plain": [
       "(date      0\n",
       " tic       0\n",
       " open      0\n",
       " high      0\n",
       " low       0\n",
       "          ..\n",
       " NATR      0\n",
       " TRANGE    0\n",
       " AD        0\n",
       " ADOSC     0\n",
       " OBV       0\n",
       " Length: 115, dtype: int64,\n",
       " (97324, 115),\n",
       " Index(['date', 'tic', 'open', 'high', 'low', 'close', 'volume', 'pct_change',\n",
       "        'HT_DCPERIOD', 'HT_DCPHASE',\n",
       "        ...\n",
       "        'LINEARREG_SLOPE', 'STDDEV', 'TSF', 'VAR', 'ATR', 'NATR', 'TRANGE',\n",
       "        'AD', 'ADOSC', 'OBV'],\n",
       "       dtype='object', length=115),\n",
       "          date   tic      open      high       low     close        volume  \\\n",
       " 0  2009-10-19  AAPL  6.708929  6.785714  6.626786  5.771190  9.422308e+08   \n",
       " 1  2009-10-20  AAPL  7.164286  7.205357  7.066071  6.041723  1.141039e+09   \n",
       " 2  2009-10-21  AAPL  7.125714  7.453929  7.115357  6.228971  1.193727e+09   \n",
       " 3  2009-10-22  AAPL  7.310714  7.423214  7.232500  6.237481  7.913920e+08   \n",
       " 4  2009-10-23  AAPL  7.346429  7.350000  7.258214  6.199183  4.207868e+08   \n",
       " \n",
       "    pct_change  HT_DCPERIOD  HT_DCPHASE  ...  LINEARREG_SLOPE    STDDEV  \\\n",
       " 0   -0.847726    23.522297  182.902662  ...         0.015264  0.032712   \n",
       " 1   -0.842646    22.649278  174.989022  ...         0.021189  0.112115   \n",
       " 2   -0.837174    21.977567  174.391243  ...         0.026173  0.194805   \n",
       " 3   -0.833505    21.559797  169.754521  ...         0.032234  0.220670   \n",
       " 4   -0.834036    21.322835  167.426505  ...         0.035610  0.177083   \n",
       " \n",
       "         TSF       VAR       ATR       NATR    TRANGE            AD  \\\n",
       " 0  5.841551  0.001070  1.039467  18.011316  1.069544 -1.412814e+12   \n",
       " 1  5.915105  0.012570  1.067660  17.671451  1.434167 -1.430738e+12   \n",
       " 2  6.004723  0.037949  1.092271  17.535328  1.412206 -1.438182e+12   \n",
       " 3  6.094254  0.048695  1.099554  17.628178  1.194243 -1.447231e+12   \n",
       " 4  6.158486  0.031358  1.100480  17.752023  1.112519 -1.457362e+12   \n",
       " \n",
       "           ADOSC           OBV  \n",
       " 0 -3.764301e+10  1.432607e+10  \n",
       " 1 -4.008642e+10  1.546711e+10  \n",
       " 2 -3.981036e+10  1.666084e+10  \n",
       " 3 -3.895763e+10  1.745223e+10  \n",
       " 4 -3.829066e+10  1.703144e+10  \n",
       " \n",
       " [5 rows x 115 columns],\n",
       "              date  tic        open        high         low       close  \\\n",
       " 97319  2023-02-10  WMT  143.089996  143.940002  142.169998  143.720001   \n",
       " 97320  2023-02-13  WMT  144.710007  146.119995  144.509995  145.910004   \n",
       " 97321  2023-02-14  WMT  145.729996  147.130005  144.559998  145.490005   \n",
       " 97322  2023-02-15  WMT  144.960007  146.600006  144.559998  146.570007   \n",
       " 97323  2023-02-16  WMT  145.479996  145.990005  144.179993  144.270004   \n",
       " \n",
       "           volume  pct_change  HT_DCPERIOD  HT_DCPHASE  ...  LINEARREG_SLOPE  \\\n",
       " 97319  5000000.0    2.984186    16.984668  276.440691  ...        -0.107582   \n",
       " 97320  5338600.0    2.983859    16.684975  300.153384  ...         0.011341   \n",
       " 97321  4610400.0    3.011304    16.466192   16.120209  ...         0.083143   \n",
       " 97322  4892700.0    3.013417    16.277263   69.059682  ...         0.167671   \n",
       " 97323  5437400.0    2.972192    16.038365   97.752962  ...         0.203254   \n",
       " \n",
       "          STDDEV         TSF       VAR       ATR      NATR    TRANGE  \\\n",
       " 97319  1.223204  141.622417  1.496228  2.746833  1.911239  2.419998   \n",
       " 97320  2.077558  142.720770  4.316245  2.722059  1.865574  2.399994   \n",
       " 97321  2.209683  143.484288  4.882700  2.711198  1.863495  2.570007   \n",
       " 97322  1.824341  144.429676  3.328220  2.663256  1.817054  2.040009   \n",
       " 97323  1.050723  144.765831  1.104019  2.643739  1.832494  2.390015   \n",
       " \n",
       "                  AD         ADOSC          OBV  \n",
       " 97319 -7.860047e+11  1.981224e+06  407265000.0  \n",
       " 97320 -7.860007e+11  3.566172e+06  412603600.0  \n",
       " 97321 -7.860020e+11  3.485103e+06  407993200.0  \n",
       " 97322 -7.859973e+11  4.646094e+06  412885900.0  \n",
       " 97323 -7.860022e+11  3.140664e+06  407448500.0  \n",
       " \n",
       " [5 rows x 115 columns])"
      ]
     },
     "execution_count": 6,
     "metadata": {},
     "output_type": "execute_result"
    }
   ],
   "source": [
    "for i in range(columns_to_drop.shape[0]):\n",
    "    tmp_index = columns_to_drop[i]\n",
    "    tmp_column = columns[tmp_index]\n",
    "    pre_processed_train_df_2 = pre_processed_train_df_2.drop(columns=tmp_column)\n",
    "\n",
    "pre_processed_train_df_2.isna().sum(), pre_processed_train_df_2.shape, pre_processed_train_df_2.columns, pre_processed_train_df_2.head(5), pre_processed_train_df_2.tail(5)"
   ]
  },
  {
   "cell_type": "markdown",
   "id": "1ef4dc50",
   "metadata": {},
   "source": [
    "# Only Keep Valid Features\n",
    " The indicator is filtered by finding out the corrolation between this term's indicator result and the next term's return rate. The more positive the corrolation is the stronger the indicator's ability to perdict the next term's return is."
   ]
  },
  {
   "cell_type": "code",
   "execution_count": 7,
   "id": "d03de562",
   "metadata": {
    "ExecuteTime": {
     "end_time": "2023-03-24T12:13:37.502146Z",
     "start_time": "2023-03-24T12:13:15.045215Z"
    },
    "code_folding": [
     4
    ],
    "scrolled": true
   },
   "outputs": [
    {
     "name": "stderr",
     "output_type": "stream",
     "text": [
      "100%|████████████████████████████████████████████████████████████████████████████████| 107/107 [00:22<00:00,  4.77it/s]\n"
     ]
    },
    {
     "data": {
      "text/html": [
       "<div>\n",
       "<style scoped>\n",
       "    .dataframe tbody tr th:only-of-type {\n",
       "        vertical-align: middle;\n",
       "    }\n",
       "\n",
       "    .dataframe tbody tr th {\n",
       "        vertical-align: top;\n",
       "    }\n",
       "\n",
       "    .dataframe thead th {\n",
       "        text-align: right;\n",
       "    }\n",
       "</style>\n",
       "<table border=\"1\" class=\"dataframe\">\n",
       "  <thead>\n",
       "    <tr style=\"text-align: right;\">\n",
       "      <th></th>\n",
       "      <th>correlation</th>\n",
       "      <th>factors</th>\n",
       "    </tr>\n",
       "  </thead>\n",
       "  <tbody>\n",
       "    <tr>\n",
       "      <th>0</th>\n",
       "      <td>0.042606</td>\n",
       "      <td>SUB</td>\n",
       "    </tr>\n",
       "    <tr>\n",
       "      <th>1</th>\n",
       "      <td>0.037050</td>\n",
       "      <td>ROCR</td>\n",
       "    </tr>\n",
       "    <tr>\n",
       "      <th>2</th>\n",
       "      <td>0.037050</td>\n",
       "      <td>ROCP</td>\n",
       "    </tr>\n",
       "    <tr>\n",
       "      <th>3</th>\n",
       "      <td>0.037050</td>\n",
       "      <td>ROCR100</td>\n",
       "    </tr>\n",
       "    <tr>\n",
       "      <th>4</th>\n",
       "      <td>0.037050</td>\n",
       "      <td>ROC</td>\n",
       "    </tr>\n",
       "    <tr>\n",
       "      <th>5</th>\n",
       "      <td>0.036987</td>\n",
       "      <td>DIV</td>\n",
       "    </tr>\n",
       "    <tr>\n",
       "      <th>6</th>\n",
       "      <td>0.036394</td>\n",
       "      <td>MOM</td>\n",
       "    </tr>\n",
       "    <tr>\n",
       "      <th>7</th>\n",
       "      <td>0.028250</td>\n",
       "      <td>CMO</td>\n",
       "    </tr>\n",
       "    <tr>\n",
       "      <th>8</th>\n",
       "      <td>0.028250</td>\n",
       "      <td>RSI</td>\n",
       "    </tr>\n",
       "    <tr>\n",
       "      <th>9</th>\n",
       "      <td>0.027857</td>\n",
       "      <td>MACD0</td>\n",
       "    </tr>\n",
       "    <tr>\n",
       "      <th>10</th>\n",
       "      <td>0.027762</td>\n",
       "      <td>MACDFIX0</td>\n",
       "    </tr>\n",
       "    <tr>\n",
       "      <th>11</th>\n",
       "      <td>0.025395</td>\n",
       "      <td>HT_PHASOR1</td>\n",
       "    </tr>\n",
       "    <tr>\n",
       "      <th>12</th>\n",
       "      <td>0.024884</td>\n",
       "      <td>TRANGE</td>\n",
       "    </tr>\n",
       "    <tr>\n",
       "      <th>13</th>\n",
       "      <td>0.023763</td>\n",
       "      <td>MACDFIX1</td>\n",
       "    </tr>\n",
       "    <tr>\n",
       "      <th>14</th>\n",
       "      <td>0.023750</td>\n",
       "      <td>MACD1</td>\n",
       "    </tr>\n",
       "    <tr>\n",
       "      <th>15</th>\n",
       "      <td>0.023578</td>\n",
       "      <td>PLUS_DM</td>\n",
       "    </tr>\n",
       "    <tr>\n",
       "      <th>16</th>\n",
       "      <td>0.023158</td>\n",
       "      <td>CCI</td>\n",
       "    </tr>\n",
       "    <tr>\n",
       "      <th>17</th>\n",
       "      <td>0.022912</td>\n",
       "      <td>MULT</td>\n",
       "    </tr>\n",
       "    <tr>\n",
       "      <th>18</th>\n",
       "      <td>0.022417</td>\n",
       "      <td>SINH</td>\n",
       "    </tr>\n",
       "    <tr>\n",
       "      <th>19</th>\n",
       "      <td>0.022417</td>\n",
       "      <td>COSH</td>\n",
       "    </tr>\n",
       "    <tr>\n",
       "      <th>20</th>\n",
       "      <td>0.022417</td>\n",
       "      <td>EXP</td>\n",
       "    </tr>\n",
       "    <tr>\n",
       "      <th>21</th>\n",
       "      <td>0.020634</td>\n",
       "      <td>MEDPRICE</td>\n",
       "    </tr>\n",
       "    <tr>\n",
       "      <th>22</th>\n",
       "      <td>0.020634</td>\n",
       "      <td>ADD</td>\n",
       "    </tr>\n",
       "    <tr>\n",
       "      <th>23</th>\n",
       "      <td>0.020024</td>\n",
       "      <td>TRIX</td>\n",
       "    </tr>\n",
       "    <tr>\n",
       "      <th>24</th>\n",
       "      <td>0.019968</td>\n",
       "      <td>AVGPRICE</td>\n",
       "    </tr>\n",
       "    <tr>\n",
       "      <th>25</th>\n",
       "      <td>0.019660</td>\n",
       "      <td>LINEARREG_SLOPE</td>\n",
       "    </tr>\n",
       "    <tr>\n",
       "      <th>26</th>\n",
       "      <td>0.019659</td>\n",
       "      <td>TYPPRICE</td>\n",
       "    </tr>\n",
       "    <tr>\n",
       "      <th>27</th>\n",
       "      <td>0.019194</td>\n",
       "      <td>WCLPRICE</td>\n",
       "    </tr>\n",
       "    <tr>\n",
       "      <th>28</th>\n",
       "      <td>0.018488</td>\n",
       "      <td>OBV</td>\n",
       "    </tr>\n",
       "    <tr>\n",
       "      <th>29</th>\n",
       "      <td>0.018216</td>\n",
       "      <td>MIDPRICE</td>\n",
       "    </tr>\n",
       "  </tbody>\n",
       "</table>\n",
       "</div>"
      ],
      "text/plain": [
       "    correlation          factors\n",
       "0      0.042606              SUB\n",
       "1      0.037050             ROCR\n",
       "2      0.037050             ROCP\n",
       "3      0.037050          ROCR100\n",
       "4      0.037050              ROC\n",
       "5      0.036987              DIV\n",
       "6      0.036394              MOM\n",
       "7      0.028250              CMO\n",
       "8      0.028250              RSI\n",
       "9      0.027857            MACD0\n",
       "10     0.027762         MACDFIX0\n",
       "11     0.025395       HT_PHASOR1\n",
       "12     0.024884           TRANGE\n",
       "13     0.023763         MACDFIX1\n",
       "14     0.023750            MACD1\n",
       "15     0.023578          PLUS_DM\n",
       "16     0.023158              CCI\n",
       "17     0.022912             MULT\n",
       "18     0.022417             SINH\n",
       "19     0.022417             COSH\n",
       "20     0.022417              EXP\n",
       "21     0.020634         MEDPRICE\n",
       "22     0.020634              ADD\n",
       "23     0.020024             TRIX\n",
       "24     0.019968         AVGPRICE\n",
       "25     0.019660  LINEARREG_SLOPE\n",
       "26     0.019659         TYPPRICE\n",
       "27     0.019194         WCLPRICE\n",
       "28     0.018488              OBV\n",
       "29     0.018216         MIDPRICE"
      ]
     },
     "execution_count": 7,
     "metadata": {},
     "output_type": "execute_result"
    }
   ],
   "source": [
    "factors = pre_processed_train_df_2.columns[8:]\n",
    "tickers = pre_processed_train_df_2.tic.unique()\n",
    "corr_list = []\n",
    "corr_df = pd.DataFrame()\n",
    "for i in tqdm(range(len(factors))):\n",
    "    tmp_corr_2 = []\n",
    "    for a in tickers:\n",
    "        tmp_df = pre_processed_train_df_2[pre_processed_train_df_2.tic==a]\n",
    "        tmp_df['pct_change'] = tmp_df.close.pct_change(-1).fillna(0)\n",
    "        tmp_corr = np.corrcoef(tmp_df['pct_change'].values, tmp_df[factors[i]].values)[0][-1]\n",
    "        tmp_corr_2.append(np.nan_to_num(tmp_corr))\n",
    "    corr_list.append(np.mean(tmp_corr))\n",
    "        \n",
    "corr_df['correlation'] = corr_list\n",
    "corr_df['factors'] = factors\n",
    "corr_df = corr_df.dropna()\n",
    "corr_df = corr_df.sort_values(by=\"correlation\",ascending=False).reset_index(drop=True)\n",
    "\n",
    "corr_df.head(30)"
   ]
  },
  {
   "cell_type": "code",
   "execution_count": null,
   "id": "22ebd9ef",
   "metadata": {},
   "outputs": [],
   "source": []
  }
 ],
 "metadata": {
  "kernelspec": {
   "display_name": "Python 3 (ipykernel)",
   "language": "python",
   "name": "python3"
  },
  "language_info": {
   "codemirror_mode": {
    "name": "ipython",
    "version": 3
   },
   "file_extension": ".py",
   "mimetype": "text/x-python",
   "name": "python",
   "nbconvert_exporter": "python",
   "pygments_lexer": "ipython3",
   "version": "3.9.13"
  },
  "toc": {
   "base_numbering": 1,
   "nav_menu": {},
   "number_sections": true,
   "sideBar": true,
   "skip_h1_title": false,
   "title_cell": "Table of Contents",
   "title_sidebar": "Contents",
   "toc_cell": false,
   "toc_position": {},
   "toc_section_display": true,
   "toc_window_display": false
  },
  "varInspector": {
   "cols": {
    "lenName": 16,
    "lenType": 16,
    "lenVar": 40
   },
   "kernels_config": {
    "python": {
     "delete_cmd_postfix": "",
     "delete_cmd_prefix": "del ",
     "library": "var_list.py",
     "varRefreshCmd": "print(var_dic_list())"
    },
    "r": {
     "delete_cmd_postfix": ") ",
     "delete_cmd_prefix": "rm(",
     "library": "var_list.r",
     "varRefreshCmd": "cat(var_dic_list()) "
    }
   },
   "types_to_exclude": [
    "module",
    "function",
    "builtin_function_or_method",
    "instance",
    "_Feature"
   ],
   "window_display": false
  },
  "vscode": {
   "interpreter": {
    "hash": "71159c3bea1635b2cdba277ecffbc628f93ffdcebf06bf6a363dd68ab8387877"
   }
  }
 },
 "nbformat": 4,
 "nbformat_minor": 5
}
